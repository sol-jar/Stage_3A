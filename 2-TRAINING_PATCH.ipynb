{
  "cells": [
    {
      "cell_type": "code",
      "execution_count": 1,
      "metadata": {
        "id": "kXoSfr_vxQYu"
      },
      "outputs": [],
      "source": [
        "import numpy as np\n",
        "import matplotlib.pyplot as plt\n",
        "import PIL\n",
        "import math\n",
        "from PIL import Image\n",
        "import random\n",
        "from sklearn.model_selection import train_test_split\n",
        "from tensorflow import keras\n",
        "from tensorflow.keras import layers\n",
        "from keras.models import Model, load_model"
      ]
    },
    {
      "cell_type": "code",
      "execution_count": 2,
      "metadata": {},
      "outputs": [],
      "source": [
        "input=np.load('/home/sisyphe/sol-test/Preprocess/Patches/Patch_Pipeline_Jarod/patches_coronal.npy')\n",
        "label=np.load('/home/sisyphe/sol-test/Preprocess/Patches/Patch_Pipeline_Jarod/label_patches_coronal.npy')"
      ]
    },
    {
      "cell_type": "code",
      "execution_count": 3,
      "metadata": {
        "id": "QiO1QGcxxT-w"
      },
      "outputs": [],
      "source": [
        "def blanchissage(input_array):\n",
        "  return (input_array - np.mean(input_array))/np.var(input_array)"
      ]
    },
    {
      "cell_type": "code",
      "execution_count": 4,
      "metadata": {
        "id": "-y2-gpl2xTl_"
      },
      "outputs": [],
      "source": [
        "label = label.astype(int)\n",
        "input = blanchissage(input)"
      ]
    },
    {
      "cell_type": "code",
      "execution_count": 5,
      "metadata": {
        "id": "T6by2c5axZWH"
      },
      "outputs": [],
      "source": [
        "input = np.expand_dims(input, axis=3) \n",
        "label = np.expand_dims(label, axis=3)"
      ]
    },
    {
      "cell_type": "code",
      "execution_count": 6,
      "metadata": {},
      "outputs": [],
      "source": [
        "train_in, test_in, train_lab, test_lab=train_test_split(input, label, test_size=0.3)"
      ]
    },
    {
      "cell_type": "code",
      "execution_count": 7,
      "metadata": {
        "id": "E-CyQ1L9xidu"
      },
      "outputs": [],
      "source": [
        "img_size = (128,128,1)\n",
        "\n",
        "def down_block(x, filters, kernel_size=(3, 3), padding=\"same\", strides=1):\n",
        "  c = layers.Conv2D(filters, kernel_size, padding=padding, strides=strides, use_bias=False)(x)\n",
        "  c = layers.BatchNormalization()(c)\n",
        "  c = layers.Activation(\"relu\")(c)\n",
        "  c = layers.Conv2D(filters, kernel_size, padding=padding, strides=strides, use_bias=False)(c)\n",
        "  c = layers.BatchNormalization()(c)\n",
        "  c = layers.Activation(\"relu\")(c)\n",
        "  p = layers.MaxPool2D((2, 2), (2, 2))(c)\n",
        "  return c, p\n",
        "\n",
        "def up_block(x, skip, filters, kernel_size=(3, 3), padding=\"same\", strides=1):\n",
        "  us = layers.UpSampling2D((2, 2))(x)\n",
        "  concat = layers.Concatenate()([us, skip])\n",
        "  c = layers.Conv2D(filters, kernel_size, padding=padding, strides=strides, use_bias=False)(concat)\n",
        "  c = layers.BatchNormalization()(c)\n",
        "  c = layers.Activation(\"relu\")(c)\n",
        "  c = layers.Conv2D(filters, kernel_size, padding=padding, strides=strides, use_bias=False)(c)\n",
        "  c = layers.BatchNormalization()(c)\n",
        "  c = layers.Activation(\"relu\")(c)\n",
        "  return c\n",
        "\n",
        "def bottleneck(x, filters, kernel_size=(3, 3), padding=\"same\", strides=1):\n",
        "  c = layers.Conv2D(filters, kernel_size, padding=padding, strides=strides, use_bias=False)(x)\n",
        "  c = layers.BatchNormalization()(c)\n",
        "  c = layers.Activation(\"relu\")(c)\n",
        "  c = layers.Conv2D(filters, kernel_size, padding=padding, strides=strides, use_bias=False)(c)\n",
        "  c = layers.BatchNormalization()(c)\n",
        "  c = layers.Activation(\"relu\")(c)\n",
        "  return c"
      ]
    },
    {
      "cell_type": "code",
      "execution_count": 8,
      "metadata": {
        "id": "rDvAbv4axk0H"
      },
      "outputs": [],
      "source": [
        "def get_model(img_size, num_classes):    \n",
        "    f = [16, 32, 64, 128, 256]\n",
        "    inputs = keras.layers.Input(shape=img_size)\n",
        "    p0 = inputs\n",
        "    c1, p1 = down_block(p0, f[0]) #128 -> 64\n",
        "    c2, p2 = down_block(p1, f[1]) #64 -> 32\n",
        "    c3, p3 = down_block(p2, f[2]) #32 -> 16\n",
        "    c4, p4 = down_block(p3, f[3]) #16->8\n",
        "    \n",
        "    bn = bottleneck(p4, f[4])\n",
        "    \n",
        "    u1 = up_block(bn, c4, f[3]) #8 -> 16\n",
        "    u2 = up_block(u1, c3, f[2]) #16 -> 32\n",
        "    u3 = up_block(u2, c2, f[1]) #32 -> 64\n",
        "    u4 = up_block(u3, c1, f[0]) #64 -> 128\n",
        "   \n",
        "    outputs = layers.Conv2D(2, num_classes, activation=\"softmax\", padding=\"same\")(u4) \n",
        "    model = keras.Model(inputs, outputs)\n",
        "    return model"
      ]
    },
    {
      "cell_type": "code",
      "execution_count": 9,
      "metadata": {
        "id": "NAnfFmUuxpG3"
      },
      "outputs": [
        {
          "name": "stderr",
          "output_type": "stream",
          "text": [
            "2022-08-16 13:05:51.376222: I tensorflow/core/platform/cpu_feature_guard.cc:193] This TensorFlow binary is optimized with oneAPI Deep Neural Network Library (oneDNN) to use the following CPU instructions in performance-critical operations:  AVX2 FMA\n",
            "To enable them in other operations, rebuild TensorFlow with the appropriate compiler flags.\n",
            "2022-08-16 13:05:53.776466: I tensorflow/core/common_runtime/gpu/gpu_device.cc:1532] Created device /job:localhost/replica:0/task:0/device:GPU:0 with 30100 MB memory:  -> device: 0, name: Tesla V100-DGXS-32GB, pci bus id: 0000:07:00.0, compute capability: 7.0\n",
            "2022-08-16 13:05:53.778860: I tensorflow/core/common_runtime/gpu/gpu_device.cc:1532] Created device /job:localhost/replica:0/task:0/device:GPU:1 with 30984 MB memory:  -> device: 1, name: Tesla V100-DGXS-32GB, pci bus id: 0000:08:00.0, compute capability: 7.0\n",
            "2022-08-16 13:05:53.780955: I tensorflow/core/common_runtime/gpu/gpu_device.cc:1532] Created device /job:localhost/replica:0/task:0/device:GPU:2 with 30984 MB memory:  -> device: 2, name: Tesla V100-DGXS-32GB, pci bus id: 0000:0e:00.0, compute capability: 7.0\n",
            "2022-08-16 13:05:53.783055: I tensorflow/core/common_runtime/gpu/gpu_device.cc:1532] Created device /job:localhost/replica:0/task:0/device:GPU:3 with 30984 MB memory:  -> device: 3, name: Tesla V100-DGXS-32GB, pci bus id: 0000:0f:00.0, compute capability: 7.0\n"
          ]
        },
        {
          "name": "stdout",
          "output_type": "stream",
          "text": [
            "Model: \"model\"\n",
            "__________________________________________________________________________________________________\n",
            " Layer (type)                   Output Shape         Param #     Connected to                     \n",
            "==================================================================================================\n",
            " input_1 (InputLayer)           [(None, 128, 128, 1  0           []                               \n",
            "                                )]                                                                \n",
            "                                                                                                  \n",
            " conv2d (Conv2D)                (None, 128, 128, 16  144         ['input_1[0][0]']                \n",
            "                                )                                                                 \n",
            "                                                                                                  \n",
            " batch_normalization (BatchNorm  (None, 128, 128, 16  64         ['conv2d[0][0]']                 \n",
            " alization)                     )                                                                 \n",
            "                                                                                                  \n",
            " activation (Activation)        (None, 128, 128, 16  0           ['batch_normalization[0][0]']    \n",
            "                                )                                                                 \n",
            "                                                                                                  \n",
            " conv2d_1 (Conv2D)              (None, 128, 128, 16  2304        ['activation[0][0]']             \n",
            "                                )                                                                 \n",
            "                                                                                                  \n",
            " batch_normalization_1 (BatchNo  (None, 128, 128, 16  64         ['conv2d_1[0][0]']               \n",
            " rmalization)                   )                                                                 \n",
            "                                                                                                  \n",
            " activation_1 (Activation)      (None, 128, 128, 16  0           ['batch_normalization_1[0][0]']  \n",
            "                                )                                                                 \n",
            "                                                                                                  \n",
            " max_pooling2d (MaxPooling2D)   (None, 64, 64, 16)   0           ['activation_1[0][0]']           \n",
            "                                                                                                  \n",
            " conv2d_2 (Conv2D)              (None, 64, 64, 32)   4608        ['max_pooling2d[0][0]']          \n",
            "                                                                                                  \n",
            " batch_normalization_2 (BatchNo  (None, 64, 64, 32)  128         ['conv2d_2[0][0]']               \n",
            " rmalization)                                                                                     \n",
            "                                                                                                  \n",
            " activation_2 (Activation)      (None, 64, 64, 32)   0           ['batch_normalization_2[0][0]']  \n",
            "                                                                                                  \n",
            " conv2d_3 (Conv2D)              (None, 64, 64, 32)   9216        ['activation_2[0][0]']           \n",
            "                                                                                                  \n",
            " batch_normalization_3 (BatchNo  (None, 64, 64, 32)  128         ['conv2d_3[0][0]']               \n",
            " rmalization)                                                                                     \n",
            "                                                                                                  \n",
            " activation_3 (Activation)      (None, 64, 64, 32)   0           ['batch_normalization_3[0][0]']  \n",
            "                                                                                                  \n",
            " max_pooling2d_1 (MaxPooling2D)  (None, 32, 32, 32)  0           ['activation_3[0][0]']           \n",
            "                                                                                                  \n",
            " conv2d_4 (Conv2D)              (None, 32, 32, 64)   18432       ['max_pooling2d_1[0][0]']        \n",
            "                                                                                                  \n",
            " batch_normalization_4 (BatchNo  (None, 32, 32, 64)  256         ['conv2d_4[0][0]']               \n",
            " rmalization)                                                                                     \n",
            "                                                                                                  \n",
            " activation_4 (Activation)      (None, 32, 32, 64)   0           ['batch_normalization_4[0][0]']  \n",
            "                                                                                                  \n",
            " conv2d_5 (Conv2D)              (None, 32, 32, 64)   36864       ['activation_4[0][0]']           \n",
            "                                                                                                  \n",
            " batch_normalization_5 (BatchNo  (None, 32, 32, 64)  256         ['conv2d_5[0][0]']               \n",
            " rmalization)                                                                                     \n",
            "                                                                                                  \n",
            " activation_5 (Activation)      (None, 32, 32, 64)   0           ['batch_normalization_5[0][0]']  \n",
            "                                                                                                  \n",
            " max_pooling2d_2 (MaxPooling2D)  (None, 16, 16, 64)  0           ['activation_5[0][0]']           \n",
            "                                                                                                  \n",
            " conv2d_6 (Conv2D)              (None, 16, 16, 128)  73728       ['max_pooling2d_2[0][0]']        \n",
            "                                                                                                  \n",
            " batch_normalization_6 (BatchNo  (None, 16, 16, 128)  512        ['conv2d_6[0][0]']               \n",
            " rmalization)                                                                                     \n",
            "                                                                                                  \n",
            " activation_6 (Activation)      (None, 16, 16, 128)  0           ['batch_normalization_6[0][0]']  \n",
            "                                                                                                  \n",
            " conv2d_7 (Conv2D)              (None, 16, 16, 128)  147456      ['activation_6[0][0]']           \n",
            "                                                                                                  \n",
            " batch_normalization_7 (BatchNo  (None, 16, 16, 128)  512        ['conv2d_7[0][0]']               \n",
            " rmalization)                                                                                     \n",
            "                                                                                                  \n",
            " activation_7 (Activation)      (None, 16, 16, 128)  0           ['batch_normalization_7[0][0]']  \n",
            "                                                                                                  \n",
            " max_pooling2d_3 (MaxPooling2D)  (None, 8, 8, 128)   0           ['activation_7[0][0]']           \n",
            "                                                                                                  \n",
            " conv2d_8 (Conv2D)              (None, 8, 8, 256)    294912      ['max_pooling2d_3[0][0]']        \n",
            "                                                                                                  \n",
            " batch_normalization_8 (BatchNo  (None, 8, 8, 256)   1024        ['conv2d_8[0][0]']               \n",
            " rmalization)                                                                                     \n",
            "                                                                                                  \n",
            " activation_8 (Activation)      (None, 8, 8, 256)    0           ['batch_normalization_8[0][0]']  \n",
            "                                                                                                  \n",
            " conv2d_9 (Conv2D)              (None, 8, 8, 256)    589824      ['activation_8[0][0]']           \n",
            "                                                                                                  \n",
            " batch_normalization_9 (BatchNo  (None, 8, 8, 256)   1024        ['conv2d_9[0][0]']               \n",
            " rmalization)                                                                                     \n",
            "                                                                                                  \n",
            " activation_9 (Activation)      (None, 8, 8, 256)    0           ['batch_normalization_9[0][0]']  \n",
            "                                                                                                  \n",
            " up_sampling2d (UpSampling2D)   (None, 16, 16, 256)  0           ['activation_9[0][0]']           \n",
            "                                                                                                  \n",
            " concatenate (Concatenate)      (None, 16, 16, 384)  0           ['up_sampling2d[0][0]',          \n",
            "                                                                  'activation_7[0][0]']           \n",
            "                                                                                                  \n",
            " conv2d_10 (Conv2D)             (None, 16, 16, 128)  442368      ['concatenate[0][0]']            \n",
            "                                                                                                  \n",
            " batch_normalization_10 (BatchN  (None, 16, 16, 128)  512        ['conv2d_10[0][0]']              \n",
            " ormalization)                                                                                    \n",
            "                                                                                                  \n",
            " activation_10 (Activation)     (None, 16, 16, 128)  0           ['batch_normalization_10[0][0]'] \n",
            "                                                                                                  \n",
            " conv2d_11 (Conv2D)             (None, 16, 16, 128)  147456      ['activation_10[0][0]']          \n",
            "                                                                                                  \n",
            " batch_normalization_11 (BatchN  (None, 16, 16, 128)  512        ['conv2d_11[0][0]']              \n",
            " ormalization)                                                                                    \n",
            "                                                                                                  \n",
            " activation_11 (Activation)     (None, 16, 16, 128)  0           ['batch_normalization_11[0][0]'] \n",
            "                                                                                                  \n",
            " up_sampling2d_1 (UpSampling2D)  (None, 32, 32, 128)  0          ['activation_11[0][0]']          \n",
            "                                                                                                  \n",
            " concatenate_1 (Concatenate)    (None, 32, 32, 192)  0           ['up_sampling2d_1[0][0]',        \n",
            "                                                                  'activation_5[0][0]']           \n",
            "                                                                                                  \n",
            " conv2d_12 (Conv2D)             (None, 32, 32, 64)   110592      ['concatenate_1[0][0]']          \n",
            "                                                                                                  \n",
            " batch_normalization_12 (BatchN  (None, 32, 32, 64)  256         ['conv2d_12[0][0]']              \n",
            " ormalization)                                                                                    \n",
            "                                                                                                  \n",
            " activation_12 (Activation)     (None, 32, 32, 64)   0           ['batch_normalization_12[0][0]'] \n",
            "                                                                                                  \n",
            " conv2d_13 (Conv2D)             (None, 32, 32, 64)   36864       ['activation_12[0][0]']          \n",
            "                                                                                                  \n",
            " batch_normalization_13 (BatchN  (None, 32, 32, 64)  256         ['conv2d_13[0][0]']              \n",
            " ormalization)                                                                                    \n",
            "                                                                                                  \n",
            " activation_13 (Activation)     (None, 32, 32, 64)   0           ['batch_normalization_13[0][0]'] \n",
            "                                                                                                  \n",
            " up_sampling2d_2 (UpSampling2D)  (None, 64, 64, 64)  0           ['activation_13[0][0]']          \n",
            "                                                                                                  \n",
            " concatenate_2 (Concatenate)    (None, 64, 64, 96)   0           ['up_sampling2d_2[0][0]',        \n",
            "                                                                  'activation_3[0][0]']           \n",
            "                                                                                                  \n",
            " conv2d_14 (Conv2D)             (None, 64, 64, 32)   27648       ['concatenate_2[0][0]']          \n",
            "                                                                                                  \n",
            " batch_normalization_14 (BatchN  (None, 64, 64, 32)  128         ['conv2d_14[0][0]']              \n",
            " ormalization)                                                                                    \n",
            "                                                                                                  \n",
            " activation_14 (Activation)     (None, 64, 64, 32)   0           ['batch_normalization_14[0][0]'] \n",
            "                                                                                                  \n",
            " conv2d_15 (Conv2D)             (None, 64, 64, 32)   9216        ['activation_14[0][0]']          \n",
            "                                                                                                  \n",
            " batch_normalization_15 (BatchN  (None, 64, 64, 32)  128         ['conv2d_15[0][0]']              \n",
            " ormalization)                                                                                    \n",
            "                                                                                                  \n",
            " activation_15 (Activation)     (None, 64, 64, 32)   0           ['batch_normalization_15[0][0]'] \n",
            "                                                                                                  \n",
            " up_sampling2d_3 (UpSampling2D)  (None, 128, 128, 32  0          ['activation_15[0][0]']          \n",
            "                                )                                                                 \n",
            "                                                                                                  \n",
            " concatenate_3 (Concatenate)    (None, 128, 128, 48  0           ['up_sampling2d_3[0][0]',        \n",
            "                                )                                 'activation_1[0][0]']           \n",
            "                                                                                                  \n",
            " conv2d_16 (Conv2D)             (None, 128, 128, 16  6912        ['concatenate_3[0][0]']          \n",
            "                                )                                                                 \n",
            "                                                                                                  \n",
            " batch_normalization_16 (BatchN  (None, 128, 128, 16  64         ['conv2d_16[0][0]']              \n",
            " ormalization)                  )                                                                 \n",
            "                                                                                                  \n",
            " activation_16 (Activation)     (None, 128, 128, 16  0           ['batch_normalization_16[0][0]'] \n",
            "                                )                                                                 \n",
            "                                                                                                  \n",
            " conv2d_17 (Conv2D)             (None, 128, 128, 16  2304        ['activation_16[0][0]']          \n",
            "                                )                                                                 \n",
            "                                                                                                  \n",
            " batch_normalization_17 (BatchN  (None, 128, 128, 16  64         ['conv2d_17[0][0]']              \n",
            " ormalization)                  )                                                                 \n",
            "                                                                                                  \n",
            " activation_17 (Activation)     (None, 128, 128, 16  0           ['batch_normalization_17[0][0]'] \n",
            "                                )                                                                 \n",
            "                                                                                                  \n",
            " conv2d_18 (Conv2D)             (None, 128, 128, 2)  130         ['activation_17[0][0]']          \n",
            "                                                                                                  \n",
            "==================================================================================================\n",
            "Total params: 1,966,866\n",
            "Trainable params: 1,963,922\n",
            "Non-trainable params: 2,944\n",
            "__________________________________________________________________________________________________\n"
          ]
        }
      ],
      "source": [
        "num_classes = 2\n",
        "model = get_model(img_size=img_size, num_classes=num_classes)\n",
        "model.summary()"
      ]
    },
    {
      "cell_type": "code",
      "execution_count": 10,
      "metadata": {},
      "outputs": [],
      "source": [
        "model = load_model('/home/sisyphe/sol-test/UNet/PP5/Coronal_PP4+60PS/model_trained/patch_128_augment_unet_osbackground_coronal_pp5_from_trained.h5')"
      ]
    },
    {
      "cell_type": "code",
      "execution_count": 11,
      "metadata": {
        "id": "N52i14_5xqV-"
      },
      "outputs": [],
      "source": [
        "model.compile(optimizer=\"adam\", loss=\"sparse_categorical_crossentropy\", metrics=[\"acc\"])  "
      ]
    },
    {
      "cell_type": "code",
      "execution_count": 12,
      "metadata": {
        "id": "cNs2HWGYxvOx"
      },
      "outputs": [
        {
          "name": "stdout",
          "output_type": "stream",
          "text": [
            "Epoch 1/50\n"
          ]
        },
        {
          "name": "stderr",
          "output_type": "stream",
          "text": [
            "2022-08-16 13:06:11.445417: I tensorflow/stream_executor/cuda/cuda_dnn.cc:384] Loaded cuDNN version 8204\n"
          ]
        },
        {
          "name": "stdout",
          "output_type": "stream",
          "text": [
            "1476/1476 [==============================] - 70s 44ms/step - loss: 0.0143 - acc: 0.9950 - val_loss: 0.0103 - val_acc: 0.9960\n",
            "Epoch 2/50\n",
            "1476/1476 [==============================] - 58s 40ms/step - loss: 0.0088 - acc: 0.9964 - val_loss: 0.0090 - val_acc: 0.9964\n",
            "Epoch 3/50\n",
            "1476/1476 [==============================] - 59s 40ms/step - loss: 0.0079 - acc: 0.9967 - val_loss: 0.0082 - val_acc: 0.9967\n",
            "Epoch 4/50\n",
            "1476/1476 [==============================] - 59s 40ms/step - loss: 0.0068 - acc: 0.9971 - val_loss: 0.0076 - val_acc: 0.9969\n",
            "Epoch 5/50\n",
            "1476/1476 [==============================] - 59s 40ms/step - loss: 0.0073 - acc: 0.9971 - val_loss: 0.0076 - val_acc: 0.9970\n",
            "Epoch 6/50\n",
            "1476/1476 [==============================] - 58s 40ms/step - loss: 0.0061 - acc: 0.9975 - val_loss: 0.0071 - val_acc: 0.9972\n",
            "Epoch 7/50\n",
            "1476/1476 [==============================] - 58s 40ms/step - loss: 0.0058 - acc: 0.9976 - val_loss: 0.0077 - val_acc: 0.9970\n",
            "Epoch 8/50\n",
            "1476/1476 [==============================] - 59s 40ms/step - loss: 0.0053 - acc: 0.9978 - val_loss: 0.0068 - val_acc: 0.9974\n",
            "Epoch 9/50\n",
            "1476/1476 [==============================] - 58s 40ms/step - loss: 0.0050 - acc: 0.9979 - val_loss: 0.0066 - val_acc: 0.9975\n",
            "Epoch 10/50\n",
            "1476/1476 [==============================] - 58s 39ms/step - loss: 0.0053 - acc: 0.9978 - val_loss: 0.0066 - val_acc: 0.9975\n",
            "Epoch 11/50\n",
            "1476/1476 [==============================] - 58s 39ms/step - loss: 0.0046 - acc: 0.9980 - val_loss: 0.0066 - val_acc: 0.9976\n",
            "Epoch 12/50\n",
            "1476/1476 [==============================] - 58s 39ms/step - loss: 0.0043 - acc: 0.9982 - val_loss: 0.0063 - val_acc: 0.9977\n",
            "Epoch 13/50\n",
            "1476/1476 [==============================] - 58s 39ms/step - loss: 0.0044 - acc: 0.9982 - val_loss: 0.0062 - val_acc: 0.9978\n",
            "Epoch 14/50\n",
            "1476/1476 [==============================] - 58s 39ms/step - loss: 0.0040 - acc: 0.9983 - val_loss: 0.0063 - val_acc: 0.9977\n",
            "Epoch 15/50\n",
            "1476/1476 [==============================] - 59s 40ms/step - loss: 0.0043 - acc: 0.9982 - val_loss: 0.0061 - val_acc: 0.9978\n",
            "Epoch 16/50\n",
            "1476/1476 [==============================] - 58s 39ms/step - loss: 0.0040 - acc: 0.9983 - val_loss: 0.0060 - val_acc: 0.9979\n",
            "Epoch 17/50\n",
            "1476/1476 [==============================] - 58s 39ms/step - loss: 0.0041 - acc: 0.9983 - val_loss: 0.0060 - val_acc: 0.9979\n",
            "Epoch 18/50\n",
            "1476/1476 [==============================] - 58s 39ms/step - loss: 0.0036 - acc: 0.9985 - val_loss: 0.0061 - val_acc: 0.9979\n",
            "Epoch 19/50\n",
            "1476/1476 [==============================] - 58s 39ms/step - loss: 0.0035 - acc: 0.9985 - val_loss: 0.0060 - val_acc: 0.9980\n",
            "Epoch 20/50\n",
            "1476/1476 [==============================] - 58s 40ms/step - loss: 0.0035 - acc: 0.9985 - val_loss: 0.0062 - val_acc: 0.9979\n",
            "Epoch 21/50\n",
            "1476/1476 [==============================] - 59s 40ms/step - loss: 0.0034 - acc: 0.9986 - val_loss: 0.0060 - val_acc: 0.9980\n",
            "Epoch 22/50\n",
            "1476/1476 [==============================] - 58s 39ms/step - loss: 0.0034 - acc: 0.9986 - val_loss: 0.0058 - val_acc: 0.9980\n",
            "Epoch 23/50\n",
            "1476/1476 [==============================] - 58s 39ms/step - loss: 0.0038 - acc: 0.9984 - val_loss: 0.0070 - val_acc: 0.9974\n",
            "Epoch 24/50\n",
            "1476/1476 [==============================] - 57s 39ms/step - loss: 0.0035 - acc: 0.9985 - val_loss: 0.0057 - val_acc: 0.9981\n",
            "Epoch 25/50\n",
            "1476/1476 [==============================] - 57s 39ms/step - loss: 0.0031 - acc: 0.9987 - val_loss: 0.0059 - val_acc: 0.9981\n",
            "Epoch 26/50\n",
            "1476/1476 [==============================] - 57s 39ms/step - loss: 0.0031 - acc: 0.9987 - val_loss: 0.0059 - val_acc: 0.9981\n",
            "Epoch 27/50\n",
            "1476/1476 [==============================] - 57s 39ms/step - loss: 0.0030 - acc: 0.9987 - val_loss: 0.0057 - val_acc: 0.9981\n",
            "Epoch 28/50\n",
            "1476/1476 [==============================] - 57s 39ms/step - loss: 0.0030 - acc: 0.9987 - val_loss: 0.0058 - val_acc: 0.9981\n",
            "Epoch 29/50\n",
            "1476/1476 [==============================] - 57s 39ms/step - loss: 0.0029 - acc: 0.9988 - val_loss: 0.0060 - val_acc: 0.9981\n",
            "Epoch 30/50\n",
            "1476/1476 [==============================] - 57s 39ms/step - loss: 0.0029 - acc: 0.9988 - val_loss: 0.0059 - val_acc: 0.9982\n",
            "Epoch 31/50\n",
            "1476/1476 [==============================] - 57s 39ms/step - loss: 0.0034 - acc: 0.9986 - val_loss: 0.0057 - val_acc: 0.9981\n",
            "Epoch 32/50\n",
            "1476/1476 [==============================] - 57s 39ms/step - loss: 0.0029 - acc: 0.9988 - val_loss: 0.0054 - val_acc: 0.9982\n",
            "Epoch 33/50\n",
            "1476/1476 [==============================] - 57s 39ms/step - loss: 0.0027 - acc: 0.9988 - val_loss: 0.0058 - val_acc: 0.9982\n",
            "Epoch 34/50\n",
            "1476/1476 [==============================] - 57s 39ms/step - loss: 0.0029 - acc: 0.9988 - val_loss: 0.0057 - val_acc: 0.9982\n",
            "Epoch 35/50\n",
            "1476/1476 [==============================] - 57s 39ms/step - loss: 0.0027 - acc: 0.9989 - val_loss: 0.0058 - val_acc: 0.9982\n",
            "Epoch 36/50\n",
            "1476/1476 [==============================] - 57s 39ms/step - loss: 0.0028 - acc: 0.9988 - val_loss: 0.0061 - val_acc: 0.9980\n",
            "Epoch 37/50\n",
            "1476/1476 [==============================] - 57s 39ms/step - loss: 0.0027 - acc: 0.9989 - val_loss: 0.0059 - val_acc: 0.9982\n",
            "Epoch 38/50\n",
            "1476/1476 [==============================] - 57s 39ms/step - loss: 0.0026 - acc: 0.9989 - val_loss: 0.0059 - val_acc: 0.9982\n",
            "Epoch 39/50\n",
            "1476/1476 [==============================] - 57s 39ms/step - loss: 0.0026 - acc: 0.9989 - val_loss: 0.0057 - val_acc: 0.9983\n",
            "Epoch 40/50\n",
            "1476/1476 [==============================] - 57s 39ms/step - loss: 0.0029 - acc: 0.9988 - val_loss: 0.0057 - val_acc: 0.9983\n",
            "Epoch 41/50\n",
            "1476/1476 [==============================] - 57s 39ms/step - loss: 0.0025 - acc: 0.9989 - val_loss: 0.0059 - val_acc: 0.9983\n",
            "Epoch 42/50\n",
            "1476/1476 [==============================] - 57s 39ms/step - loss: 0.0025 - acc: 0.9990 - val_loss: 0.0059 - val_acc: 0.9983\n",
            "Epoch 43/50\n",
            "1476/1476 [==============================] - 57s 39ms/step - loss: 0.0027 - acc: 0.9989 - val_loss: 0.0061 - val_acc: 0.9979\n",
            "Epoch 44/50\n",
            "1476/1476 [==============================] - 57s 39ms/step - loss: 0.0026 - acc: 0.9989 - val_loss: 0.0056 - val_acc: 0.9983\n",
            "Epoch 45/50\n",
            "1476/1476 [==============================] - 57s 39ms/step - loss: 0.0025 - acc: 0.9990 - val_loss: 0.0059 - val_acc: 0.9983\n",
            "Epoch 46/50\n",
            "1476/1476 [==============================] - 57s 39ms/step - loss: 0.0025 - acc: 0.9989 - val_loss: 0.0057 - val_acc: 0.9983\n",
            "Epoch 47/50\n",
            "1476/1476 [==============================] - 57s 39ms/step - loss: 0.0024 - acc: 0.9990 - val_loss: 0.0061 - val_acc: 0.9983\n",
            "Epoch 48/50\n",
            "1476/1476 [==============================] - 57s 39ms/step - loss: 0.0029 - acc: 0.9988 - val_loss: 0.0056 - val_acc: 0.9983\n",
            "Epoch 49/50\n",
            "1476/1476 [==============================] - 57s 39ms/step - loss: 0.0023 - acc: 0.9990 - val_loss: 0.0057 - val_acc: 0.9983\n",
            "Epoch 50/50\n",
            "1476/1476 [==============================] - 57s 39ms/step - loss: 0.0023 - acc: 0.9990 - val_loss: 0.0059 - val_acc: 0.9983\n"
          ]
        }
      ],
      "source": [
        "history = model.fit(train_in, train_lab, epochs=50, batch_size=32, validation_data=(test_in, test_lab))"
      ]
    },
    {
      "cell_type": "code",
      "execution_count": 13,
      "metadata": {
        "id": "BCZ4S8EEx3LC"
      },
      "outputs": [
        {
          "data": {
            "text/plain": [
              "<matplotlib.legend.Legend at 0x7f018c0be070>"
            ]
          },
          "execution_count": 13,
          "metadata": {},
          "output_type": "execute_result"
        },
        {
          "data": {
            "image/png": "[encoded data removed]",
            "text/plain": [
              "<Figure size 432x288 with 1 Axes>"
            ]
          },
          "metadata": {
            "needs_background": "light"
          },
          "output_type": "display_data"
        }
      ],
      "source": [
        "#Displaying Loss and Validation\n",
        "\n",
        "epochs = range(1, len(history.history[\"loss\"]) + 1)\n",
        "loss = history.history[\"loss\"]\n",
        "val_loss = history.history[\"val_loss\"]\n",
        "plt.figure()\n",
        "plt.plot(epochs, loss, \"bo\", label=\"Training loss\")\n",
        "plt.plot(epochs, val_loss, \"r\", label=\"Validation loss\")\n",
        "plt.title(\"Training and validation loss\")\n",
        "plt.legend()"
      ]
    },
    {
      "cell_type": "code",
      "execution_count": 14,
      "metadata": {
        "id": "jA_4vXIzx41y"
      },
      "outputs": [
        {
          "name": "stderr",
          "output_type": "stream",
          "text": [
            "WARNING:absl:Found untraced functions such as _jit_compiled_convolution_op, _jit_compiled_convolution_op, _jit_compiled_convolution_op, _jit_compiled_convolution_op, _jit_compiled_convolution_op while saving (showing 5 of 19). These functions will not be directly callable after loading.\n"
          ]
        },
        {
          "name": "stdout",
          "output_type": "stream",
          "text": [
            "INFO:tensorflow:Assets written to: model_trained/patch_128_augment_unet_osbackground_coronal_pp1_from_trained/assets\n"
          ]
        },
        {
          "name": "stderr",
          "output_type": "stream",
          "text": [
            "INFO:tensorflow:Assets written to: model_trained/patch_128_augment_unet_osbackground_coronal_pp1_from_trained/assets\n"
          ]
        }
      ],
      "source": [
        "# SAVING YOUR MODEL\n",
        "import os\n",
        "os.chdir('/home/sisyphe/sol-test/UNet/PP1/Coronal')\n",
        "model_path = os.path.join('model_trained', 'patch_128_augment_unet_osbackground_coronal_pp1_from_trained')\n",
        "if not os.path.exists(model_path):\n",
        "    os.makedirs(model_path)\n",
        "model.save(model_path)\n",
        "\n",
        "model.save(model_path + '.h5')\n",
        "model.save_weights(model_path + '_weights.h5')"
      ]
    },
    {
      "cell_type": "code",
      "execution_count": 15,
      "metadata": {
        "id": "_aM4z1TRx7Jq"
      },
      "outputs": [
        {
          "name": "stdout",
          "output_type": "stream",
          "text": [
            "633/633 [==============================] - 7s 12ms/step - loss: 0.0059 - acc: 0.9983\n"
          ]
        },
        {
          "data": {
            "text/plain": [
              "[0.0058519961312413216, 0.9983298778533936]"
            ]
          },
          "execution_count": 15,
          "metadata": {},
          "output_type": "execute_result"
        }
      ],
      "source": [
        "# EVALUATE YOUR MODEL\n",
        "model.evaluate(test_in, test_lab)"
      ]
    },
    {
      "cell_type": "code",
      "execution_count": 16,
      "metadata": {
        "id": "DTpz9Mp0yAUl"
      },
      "outputs": [],
      "source": [
        "def computing_dice_osbackground(true, pred):\n",
        "  inter_os = np.sum((true == 1) & (pred == 1))\n",
        "  total_pixel_os = np.sum(true == 1) + np.sum(pred == 1)\n",
        "  return 2*inter_os/total_pixel_os"
      ]
    },
    {
      "cell_type": "code",
      "execution_count": 17,
      "metadata": {
        "id": "aBNlOSbax9j1"
      },
      "outputs": [
        {
          "name": "stdout",
          "output_type": "stream",
          "text": [
            "633/633 [==============================] - 6s 8ms/step\n"
          ]
        },
        {
          "data": {
            "text/plain": [
              "0.9834699287829568"
            ]
          },
          "execution_count": 17,
          "metadata": {},
          "output_type": "execute_result"
        }
      ],
      "source": [
        "# COMPUTING DICE\n",
        "predictions = model.predict(test_in)\n",
        "predictions = np.argmax(predictions, axis=-1)\n",
        "true = np.squeeze(test_lab)\n",
        "DICE = computing_dice_osbackground(predictions, true)\n",
        "DICE"
      ]
    },
    {
      "cell_type": "code",
      "execution_count": 18,
      "metadata": {
        "id": "gc7xry-YyF4k"
      },
      "outputs": [
        {
          "data": {
            "text/plain": [
              "Text(0.5, 1.0, 'Predicted')"
            ]
          },
          "execution_count": 18,
          "metadata": {},
          "output_type": "execute_result"
        },
        {
          "data": {
            "image/png": "[encoded data removed]",
            "text/plain": [
              "<Figure size 1296x1296 with 2 Axes>"
            ]
          },
          "metadata": {
            "needs_background": "light"
          },
          "output_type": "display_data"
        }
      ],
      "source": [
        "# UTILITY TO CHECK PERFORMANCES\n",
        "a=random.randint(0, len(test_in))\n",
        "fig = plt.figure(figsize=(18, 18)) \n",
        "  \n",
        "rows = 1\n",
        "columns = 2\n",
        "  \n",
        "fig.add_subplot(rows, columns, 1) \n",
        "  \n",
        "plt.imshow(test_in[a]) \n",
        "plt.axis('off') \n",
        "plt.title(\"Raw\") \n",
        "  \n",
        "fig.add_subplot(rows, columns, 2) \n",
        "plt.imshow(test_lab[a]) \n",
        "plt.axis('off') \n",
        "plt.title(\"Predicted\")  "
      ]
    }
  ],
  "metadata": {
    "colab": {
      "name": "TRAINING_PATCH.ipynb",
      "provenance": []
    },
    "kernelspec": {
      "display_name": "Python 3.9.12 ('base')",
      "language": "python",
      "name": "python3"
    },
    "language_info": {
      "codemirror_mode": {
        "name": "ipython",
        "version": 3
      },
      "file_extension": ".py",
      "mimetype": "text/x-python",
      "name": "python",
      "nbconvert_exporter": "python",
      "pygments_lexer": "ipython3",
      "version": "3.9.12"
    },
    "vscode": {
      "interpreter": {
        "hash": "715dc73e896bd2e057da3343d5ee5cc1e37df1d62938beb2865c7e6fb8e8cf30"
      }
    }
  },
  "nbformat": 4,
  "nbformat_minor": 0
}
