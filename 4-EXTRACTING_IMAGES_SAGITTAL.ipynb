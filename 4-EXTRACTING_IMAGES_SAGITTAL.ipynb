{
 "cells": [
  {
   "cell_type": "code",
   "execution_count": null,
   "metadata": {},
   "outputs": [],
   "source": [
    "%cd '/home/sisyphe/sol-test'"
   ]
  },
  {
   "cell_type": "code",
   "execution_count": null,
   "metadata": {},
   "outputs": [],
   "source": [
    "import numpy as np\n",
    "import matplotlib.pyplot as plt\n",
    "import PIL\n",
    "import os\n",
    "from PIL import Image\n",
    "import tifffile\n",
    "from tifffile import imsave, imread\n",
    "import nibabel as nib\n",
    "import random\n",
    "from skimage.transform import rotate\n",
    "from skimage import data\n",
    "from skimage.transform import rescale\n",
    "import sklearn\n",
    "import sklearn.feature_extraction\n",
    "import random \n",
    "import skimage\n",
    "import scipy\n",
    "from scipy import ndimage, misc\n",
    "from skimage import transform\n",
    "from skimage.transform import rotate, AffineTransform,warp\n",
    "from skimage.util import random_noise\n",
    "from skimage.filters import gaussian\n",
    "from scipy import ndimage\n",
    "import random\n",
    "from skimage import img_as_ubyte\n",
    "import re"
   ]
  },
  {
   "cell_type": "code",
   "execution_count": null,
   "metadata": {},
   "outputs": [],
   "source": [
    "def norm(array):\n",
    "    return ((array - array.min())/(array.max() - array.min()))"
   ]
  },
  {
   "cell_type": "code",
   "execution_count": null,
   "metadata": {},
   "outputs": [],
   "source": [
    "def loading_image_or_segmentation(image_path, mode='AXIAL'):\n",
    "  img = imread(image_path)\n",
    "  img = np.array(img)\n",
    "  \n",
    "  if(mode=='SAGITTAL'):\n",
    "    img = np.transpose(img, (2,0,1))\n",
    "  \n",
    "  if(mode=='CORONAL'):\n",
    "    img = np.transpose(img, (1,0,2))\n",
    "  \n",
    "  return img, image_path"
   ]
  },
  {
   "cell_type": "code",
   "execution_count": null,
   "metadata": {},
   "outputs": [],
   "source": [
    "def reshape(input, label):\n",
    "    if input.shape[1]<512:\n",
    "        length=512-input.shape[1]\n",
    "        extend=np.zeros((input.shape[0], length, input.shape[2]))\n",
    "        input=np.concatenate((input, extend), axis=1)\n",
    "        label=np.concatenate((label, extend), axis=1)\n",
    "    if input.shape[1]>512:\n",
    "        label=label[:, label.shape[1]-512:, :]\n",
    "        input=input[:, input.shape[1]-512:, :]\n",
    "    return input, label"
   ]
  },
  {
   "cell_type": "code",
   "execution_count": null,
   "metadata": {},
   "outputs": [],
   "source": [
    "def extract_indexes(segmentation, filename, draw):\n",
    "    indexes = []\n",
    "    if draw=='ANNOTATION':\n",
    "        for i in range(0, len(segmentation)):\n",
    "            if np.mean(segmentation[i]!=0):\n",
    "                indexes.append(i)\n",
    "    if draw=='CORRECTION':\n",
    "        regex=re.compile('\\d+')\n",
    "        digits=regex.findall(filename)\n",
    "        indexes=[int(x) for x in digits[2:]]\n",
    "    return indexes"
   ]
  },
  {
   "cell_type": "code",
   "execution_count": null,
   "metadata": {},
   "outputs": [],
   "source": [
    "def extract_slices(inputs, labels, index, inputs_list, labels_list):\n",
    "    for k in index:\n",
    "        inputs_list.append(inputs[k])\n",
    "        labels_list.append(labels[k])"
   ]
  },
  {
   "cell_type": "code",
   "execution_count": null,
   "metadata": {},
   "outputs": [],
   "source": [
    "def all_reassemble(input_path, label_path, draw, mode, type, input_list, label_list):\n",
    "    input, null=loading_image_or_segmentation(input_path, mode=mode)\n",
    "    input=norm(input)\n",
    "    label, path=loading_image_or_segmentation(label_path, mode=mode)\n",
    "    label=np.where(label>1, 0, label)\n",
    "    label=norm(label)\n",
    "    input, label=reshape(input, label)\n",
    "    if type=='EE':\n",
    "        indexes=extract_indexes(label, path, draw)\n",
    "        extract_slices(input, label, indexes, input_list, label_list)\n",
    "    if type=='SU':\n",
    "        indexes=random.sample(range(len(input)), k=8)\n",
    "        indexes.sort()\n",
    "        extract_slices(input, label, indexes, input_list, label_list)\n",
    "    if type=='EC':\n",
    "        indexes=random.sample(range(len(input)), k=7)\n",
    "        indexes.sort()\n",
    "        extract_slices(input, label, indexes, input_list, label_list)\n",
    "    print('done')"
   ]
  },
  {
   "cell_type": "code",
   "execution_count": null,
   "metadata": {},
   "outputs": [],
   "source": [
    "inputs_list=[]\n",
    "labels_list=[]"
   ]
  },
  {
   "cell_type": "code",
   "execution_count": null,
   "metadata": {},
   "outputs": [],
   "source": [
    "all_reassemble('/home/sisyphe/sol-test/AA_Images_MOG/SH_00173.tif', '/home/sisyphe/sol-test/BB_Segmentation_brute/Sagittal/SH_00173_segmentation_sagittale_5_44-157-233-329-407.tif', 'CORRECTION', 'SAGITTAL', 'EE', inputs_list, labels_list)\n",
    "all_reassemble('/home/sisyphe/sol-test/AA_Images_MOG/SH_00173.tif', '/home/sisyphe/sol-test/BB_Segmentation_brute/Coronal/OK_SH_00173_segmentation_coronale_5_129-200-266-306-353.tif', 'CORRECTION', 'CORONAL', 'EE', inputs_list, labels_list)\n",
    "all_reassemble('/home/sisyphe/sol-test/AA_Images_MOG/SH_00217.tif', '/home/sisyphe/sol-test/BB_Segmentation_brute/Sagittal/SH_00217_segmentation_sagittale_5_52-160-204-248-340.tif', 'CORRECTION', 'SAGITTAL', 'EE', inputs_list, labels_list)\n",
    "all_reassemble('/home/sisyphe/sol-test/AA_Images_MOG/SH_00217.tif', '/home/sisyphe/sol-test/BB_Segmentation_brute/Coronal/OK_SH_00217_segmentation_coronale_5_62-202-256-297-357.tif', 'CORRECTION', 'CORONAL', 'EE', inputs_list, labels_list)\n",
    "all_reassemble('/home/sisyphe/sol-test/AA_Images_MOG/SH_01650.tif', '/home/sisyphe/sol-test/BB_Segmentation_brute/Sagittal/SH_01650_segmentation_sagittale_4.tif', 'ANNOTATION', 'SAGITTAL', 'EE', inputs_list, labels_list)\n",
    "all_reassemble('/home/sisyphe/sol-test/AA_Images_MOG/SH_01650.tif', '/home/sisyphe/sol-test/BB_Segmentation_brute/Coronal/OK_SH_01650_segmentation_coronale_5.tif', 'ANNOTATION', 'CORONAL', 'EE', inputs_list, labels_list)\n",
    "all_reassemble('/home/sisyphe/sol-test/AA_Images_MOG/SH_01650.tif', '/home/sisyphe/sol-test/BB_Segmentation_brute/Axial/Epaule entière (incomplète)/SH_01650_segmentation_9.tif', 'ANNOTATION', 'Axial', 'EE', inputs_list, labels_list)\n",
    "all_reassemble('/home/sisyphe/sol-test/AA_Images_MOG/SH_01740.tif', '/home/sisyphe/sol-test/BB_Segmentation_brute/Sagittal/SH_01740_segmentation_sagittale_5.tif', 'ANNOTATION', 'SAGITTAL', 'EE', inputs_list, labels_list)\n",
    "all_reassemble('/home/sisyphe/sol-test/AA_Images_MOG/SH_01740.tif', '/home/sisyphe/sol-test/BB_Segmentation_brute/Coronal/OK_SH_01740_segmentation_coronale_5.tif', 'ANNOTATION', 'CORONAL', 'EE', inputs_list, labels_list)\n",
    "all_reassemble('/home/sisyphe/sol-test/AA_Images_MOG/SH_01740.tif', '/home/sisyphe/sol-test/BB_Segmentation_brute/Axial/Epaule entière (incomplète)/SH_01740_segmentation_10.tif', 'ANNOTATION', 'Axial', 'EE', inputs_list, labels_list)\n",
    "all_reassemble('/home/sisyphe/sol-test/AA_Images_MOG/SH_02029.tif', '/home/sisyphe/sol-test/BB_Segmentation_brute/Sagittal/SH_02029_segmentation_sagittale_5_54-144-222-264-388.tif', 'CORRECTION', 'SAGITTAL', 'EE', inputs_list, labels_list)\n",
    "all_reassemble('/home/sisyphe/sol-test/AA_Images_MOG/SH_02029.tif', '/home/sisyphe/sol-test/BB_Segmentation_brute/Coronal/SH_02029_segmentation_coronale_5_72-187-285-386-463.tif', 'CORRECTION', 'CORONAL', 'EE', inputs_list, labels_list)\n",
    "all_reassemble('/home/sisyphe/sol-test/AA_Images_MOG/SH_02030.tif', '/home/sisyphe/sol-test/BB_Segmentation_brute/Sagittal/SH_02030_segmentation_sagittale_5_32-199-255-385-442.tif', 'CORRECTION', 'SAGITTAL', 'EE', inputs_list, labels_list)\n",
    "all_reassemble('/home/sisyphe/sol-test/AA_Images_MOG/SH_02030.tif', '/home/sisyphe/sol-test/BB_Segmentation_brute/Coronal/SH_02030_segmentation_coronale_5_75-217-268-313-396.tif', 'CORRECTION', 'CORONAL', 'EE', inputs_list, labels_list)\n",
    "all_reassemble('/home/sisyphe/sol-test/AA_Images_MOG/SH_02037.tif', '/home/sisyphe/sol-test/BB_Segmentation_brute/Sagittal/SH_02037_segmentation_sagittale_4.tif', 'ANNOTATION', 'SAGITTAL', 'EE', inputs_list, labels_list)\n",
    "all_reassemble('/home/sisyphe/sol-test/AA_Images_MOG/SH_02037.tif', '/home/sisyphe/sol-test/BB_Segmentation_brute/Coronal/SH_02037_segmentation_coronale_6.tif', 'ANNOTATION', 'CORONAL', 'EE', inputs_list, labels_list)\n",
    "all_reassemble('/home/sisyphe/sol-test/AA_Images_MOG/SH_02040.tif', '/home/sisyphe/sol-test/BB_Segmentation_brute/Sagittal/SH_02040_segmentation_sagittale_5.tif', 'ANNOTATION', 'SAGITTAL', 'EE', inputs_list, labels_list)\n",
    "all_reassemble('/home/sisyphe/sol-test/AA_Images_MOG/SH_02040.tif', '/home/sisyphe/sol-test/BB_Segmentation_brute/Coronal/SH_02040_segmentation_coronale_7_94-126-200-227-298-351-418.tif', 'CORRECTION', 'CORONAL', 'EE', inputs_list, labels_list)\n",
    "all_reassemble('/home/sisyphe/sol-test/AA_Images_MOG/SH_02095.tif', '/home/sisyphe/sol-test/BB_Segmentation_brute/Sagittal/SH_02095_segmentation_sagittale_5_124-228-326-396-452.tif', 'CORRECTION', 'SAGITTAL', 'EE', inputs_list, labels_list)\n",
    "all_reassemble('/home/sisyphe/sol-test/AA_Images_MOG/SH_02095.tif', '/home/sisyphe/sol-test/BB_Segmentation_brute/Coronal/SH_02095_segmentation_coronale_5_102-168-250-345-442.tif', 'CORRECTION', 'CORONAL', 'EE', inputs_list, labels_list)\n",
    "all_reassemble('/home/sisyphe/sol-test/AA_Images_MOG/SH_02234-N.tif', '/home/sisyphe/sol-test/BB_Segmentation_brute/Sagittal/SH_02234-N_segmentation_sagittale_6_47-75-169-255-386-438.tif', 'CORRECTION', 'SAGITTAL', 'EE', inputs_list, labels_list)\n",
    "all_reassemble('/home/sisyphe/sol-test/AA_Images_MOG/SH_02234-N.tif', '/home/sisyphe/sol-test/BB_Segmentation_brute/Coronal/SH_02234-N_segmentation_coronale_6_83-166-224-264-314-409.tif', 'CORRECTION', 'CORONAL', 'EE', inputs_list, labels_list)\n",
    "all_reassemble('/home/sisyphe/sol-test/AA_Images_MOG/SH_02236-N.tif', '/home/sisyphe/sol-test/BB_Segmentation_brute/Sagittal/SH_02236-N_segmentation_sagittale_5_64-211-259-384-462.tif', 'CORRECTION', 'SAGITTAL', 'EE', inputs_list, labels_list)\n",
    "all_reassemble('/home/sisyphe/sol-test/AA_Images_MOG/SH_02236-N.tif', '/home/sisyphe/sol-test/BB_Segmentation_brute/Coronal/SH_02236-N_segmentation_coronale_5_196-253-327-382-415.tif', 'CORRECTION', 'CORONAL', 'EE', inputs_list, labels_list)\n",
    "all_reassemble('/home/sisyphe/sol-test/AA_Images_MOG/SH_04108-N.tif', '/home/sisyphe/sol-test/BB_Segmentation_brute/Sagittal/SH_04108-N_segmentation_sagittale_6_123-155-257-313-373-511.tif', 'CORRECTION', 'SAGITTAL', 'EE', inputs_list, labels_list)\n",
    "all_reassemble('/home/sisyphe/sol-test/AA_Images_MOG/SH_04108-N.tif', '/home/sisyphe/sol-test/BB_Segmentation_brute/Coronal/SH_04108-N_segmentation_coronale_6_86-127-181-290-354-436.tif', 'CORRECTION', 'CORONAL', 'EE', inputs_list, labels_list)\n",
    "all_reassemble('/home/sisyphe/sol-test/AA_Images_MOG/SH_02172.tif', '/home/sisyphe/sol-test/BB_Segmentation_brute/Complètes/Labels/MASK_MASK_SH_2172.tif', 'ANNOTATION', 'SAGITTAL', 'EC', inputs_list, labels_list)\n",
    "all_reassemble('/home/sisyphe/sol-test/AA_Images_MOG/SH_02172.tif', '/home/sisyphe/sol-test/BB_Segmentation_brute/Complètes/Labels/MASK_MASK_SH_2172.tif', 'ANNOTATION', 'AXIAL', 'EC', inputs_list, labels_list)\n",
    "all_reassemble('/home/sisyphe/sol-test/AA_Images_MOG/SH_02172.tif', '/home/sisyphe/sol-test/BB_Segmentation_brute/Complètes/Labels/MASK_MASK_SH_2172.tif', 'ANNOTATION', 'CORONAL', 'EC', inputs_list, labels_list)"
   ]
  },
  {
   "cell_type": "code",
   "execution_count": null,
   "metadata": {},
   "outputs": [],
   "source": [
    "len(labels_list)"
   ]
  },
  {
   "cell_type": "code",
   "execution_count": null,
   "metadata": {},
   "outputs": [],
   "source": [
    "import imageio\n",
    "imageio.mimwrite('/home/sisyphe/sol-test/BB_Labels_formats_divers/Format_Image/1_Rond_Gris/inputs_512.tif', inputs_list)\n",
    "imageio.mimwrite('/home/sisyphe/sol-test/BB_Labels_formats_divers/Format_Image/1_Rond_Gris/labels_512.tif', labels_list)"
   ]
  },
  {
   "cell_type": "code",
   "execution_count": null,
   "metadata": {},
   "outputs": [],
   "source": [
    "np.save('/home/sisyphe/sol-test/BB_Labels_formats_divers/Format_Image/1_Rond_Gris/inputs_512.npy', inputs_list)\n",
    "np.save('/home/sisyphe/sol-test/BB_Labels_formats_divers/Format_Image/1_Rond_Gris/labels_512.npy', labels_list)"
   ]
  }
 ],
 "metadata": {
  "kernelspec": {
   "display_name": "Python 3.9.12 ('base')",
   "language": "python",
   "name": "python3"
  },
  "language_info": {
   "codemirror_mode": {
    "name": "ipython",
    "version": 3
   },
   "file_extension": ".py",
   "mimetype": "text/x-python",
   "name": "python",
   "nbconvert_exporter": "python",
   "pygments_lexer": "ipython3",
   "version": "3.9.12"
  },
  "orig_nbformat": 4,
  "vscode": {
   "interpreter": {
    "hash": "715dc73e896bd2e057da3343d5ee5cc1e37df1d62938beb2865c7e6fb8e8cf30"
   }
  }
 },
 "nbformat": 4,
 "nbformat_minor": 2
}
